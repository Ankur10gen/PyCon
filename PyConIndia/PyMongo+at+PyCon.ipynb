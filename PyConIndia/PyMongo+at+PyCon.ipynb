{
 "cells": [
  {
   "cell_type": "markdown",
   "metadata": {},
   "source": [
    "![PyCon.jpg](pycon.jpeg)"
   ]
  },
  {
   "cell_type": "markdown",
   "metadata": {},
   "source": [
    "**What's inside this Jupyter Notebook?**\n",
    "\n",
    "1. **Connect** to MongoDB Cluster using URI\n",
    "1. Access a **collection** inside a **database**\n",
    "1. **Insert one** document\n",
    "1. **Find one** document\n",
    "1. **Find many** documents\n",
    "1. **Query** using **ObjectId**\n",
    "1. **Insert many** documents\n",
    "1. Introduction to **Aggregation Pipeline** (\\$match, \\$unwind, \\$limit, \\$project, \\$sort, \\$out)\n",
    "1. **Update many** documents"
   ]
  },
  {
   "cell_type": "markdown",
   "metadata": {},
   "source": [
    "# MongoClient - Connecting to MongoDB Atlas"
   ]
  },
  {
   "cell_type": "code",
   "execution_count": null,
   "metadata": {},
   "outputs": [],
   "source": [
    "import pymongo\n",
    "\n",
    "client_atlas = MongoClient(\"mongodb://admin:<PASSWORD>@cluster0-shard-00-00-ydjii.mongodb.net:27017,cluster0-shard-00-01-ydjii.mongodb.net:27017,cluster0-shard-00-02-ydjii.mongodb.net:27017/testme?ssl=true&replicaSet=Cluster0-shard-0&authSource=admin\")\n",
    "print(client)"
   ]
  },
  {
   "cell_type": "markdown",
   "metadata": {},
   "source": [
    "# Access the database and collection \n",
    "**Note that neither the database nor the collection are currently available on this cluster and will be created lazily on first insert**"
   ]
  },
  {
   "cell_type": "code",
   "execution_count": null,
   "metadata": {
    "collapsed": true
   },
   "outputs": [],
   "source": [
    "db_atlas = client_atlas['mugdb']\n",
    "coll_atlas = db['mugcoll']"
   ]
  },
  {
   "cell_type": "markdown",
   "metadata": {},
   "source": [
    "# insert_one()"
   ]
  },
  {
   "cell_type": "code",
   "execution_count": null,
   "metadata": {},
   "outputs": [],
   "source": [
    "print(\"I'll run 3 insert commands to MongoDB Atlas\")\n",
    "\n",
    "coll_atlas.insert_one({\"name\": \"Ned\", \"clan\": \"Stark\", \"hasDied\": True})\n",
    "coll_atlas.insert_one({\"name\": \"Sansa\", \"clan\": \"Stark\", \"hasDied\": False})\n",
    "coll_atlas.insert_one({\"name\": \"Tyrion\", \"clan\": \"Lannister\", \"hasDied\":False, \"alias\":\"The Imp\"})"
   ]
  },
  {
   "cell_type": "markdown",
   "metadata": {},
   "source": [
    "# find_one()"
   ]
  },
  {
   "cell_type": "code",
   "execution_count": null,
   "metadata": {},
   "outputs": [],
   "source": [
    "print(\"Now I'll find one document\")\n",
    "\n",
    "coll_atlas.find_one()"
   ]
  },
  {
   "cell_type": "markdown",
   "metadata": {},
   "source": [
    "# find() - get many documents"
   ]
  },
  {
   "cell_type": "code",
   "execution_count": null,
   "metadata": {},
   "outputs": [],
   "source": [
    "print(\"I'll like to find  documents where clan is Stark\")\n",
    "\n",
    "cursor = coll_atlas.find({\"clan\":\"Stark\"})\n",
    "status = \"What's dead may never die.\"\n",
    "\n",
    "for starks in cursor:\n",
    "    if not starks['hasDied']:\n",
    "        status = \"I'm still alive.\"\n",
    "    print(\"Hello... My name is \"+ starks['name'] + \".\" + status)"
   ]
  },
  {
   "cell_type": "markdown",
   "metadata": {},
   "source": [
    "# Query an ObjectID"
   ]
  },
  {
   "cell_type": "code",
   "execution_count": null,
   "metadata": {},
   "outputs": [],
   "source": [
    "print(\"Querying by ObjectID\")\n",
    "\n",
    "from bson.objectid import ObjectId\n",
    "\n",
    "print(\"Let's copy the ObjectID from the previous find_one statement\")\n",
    "\n",
    "cursor = coll_atlas.find({\"_id\": ObjectId('5970e224c1f0791d6bdb92fb')})\n",
    "for doc in cursor:\n",
    "    print(doc)"
   ]
  },
  {
   "cell_type": "markdown",
   "metadata": {},
   "source": [
    "# insert_many()"
   ]
  },
  {
   "cell_type": "code",
   "execution_count": null,
   "metadata": {},
   "outputs": [],
   "source": [
    "print('Let''s insert many documents')\n",
    "\n",
    "lannisters = coll_atlas.insert_many([\n",
    "{\"name\": \"Cersei\", \"clan\":\"Lannister\"},\n",
    "{\"name\": \"Jaime\", \"clan\":\"Lannister\"}\n",
    "])\n",
    "\n",
    "print(\"I have inserted the following Lannisters\")\n",
    "\n",
    "lannisters.inserted_ids"
   ]
  },
  {
   "cell_type": "markdown",
   "metadata": {},
   "source": [
    "\n",
    "# Let's insert the data of all the different houses of GoT in a collection named `pymongo_got` in `db_atlas` database\n",
    "\n",
    "Data picked from https://github.com/ericdrowell/CheatSheetWorld/blob/master/src/entertainment/game-of-thrones.json"
   ]
  },
  {
   "cell_type": "code",
   "execution_count": null,
   "metadata": {
    "collapsed": true
   },
   "outputs": [],
   "source": [
    "pymongo_got = db_atlas['pymongo_got']\n",
    "\n",
    "pymongo_got.delete_many({})\n",
    "\n",
    "got_houses = pymongo_got.insert_many(\n",
    "[\n",
    "    {\n",
    "      \"name\": \"Starks\",\n",
    "      \"wikiSuffix\": \"House_Stark\",\n",
    "      \"people\": [\n",
    "        {\n",
    "          \"name\": \"Eddard \\\"Ned\\\" Stark\",\n",
    "          \"description\": \"Lord of Winterfell - Warden of the North - Hand of the King - Married to Catelyn (Tully) Stark\",\n",
    "          \"imageSuffix\": \"eddard-stark\",\n",
    "          \"wikiSuffix\": \"Eddard_Stark\"\n",
    "        },\n",
    "        {\n",
    "          \"name\": \"Benjen Stark\",\n",
    "          \"description\": \"Brother of Eddard Stark - First ranger of the Night's Watch\",\n",
    "          \"imageSuffix\": \"benjen-stark\",\n",
    "          \"wikiSuffix\": \"Benjen_Stark\"\n",
    "        },\n",
    "        {\n",
    "          \"name\": \"Robb Stark\",\n",
    "          \"description\": \"Son of Eddard and Catelyn Stark - Direwolf: Grey Wind\",\n",
    "          \"imageSuffix\": \"robb-stark\",\n",
    "          \"wikiSuffix\": \"Robb_Stark\"\n",
    "        },\n",
    "        {\n",
    "          \"name\": \"Sansa Stark\",\n",
    "          \"description\": \"Daughter of Eddard and Catelyn Stark - Direwolf: Lady\",\n",
    "          \"imageSuffix\": \"sansa-stark\",\n",
    "          \"wikiSuffix\": \"Sansa_Stark\"\n",
    "        },\n",
    "        {\n",
    "          \"name\": \"Arya Stark\",\n",
    "          \"description\": \"Daughter of Eddard and Catelyn Stark - Direwolf: Nymeria\",\n",
    "          \"imageSuffix\": \"arya-stark\",\n",
    "          \"wikiSuffix\": \"Arya_Stark\"\n",
    "        },\n",
    "        {\n",
    "          \"name\": \"Brandon \\\"Bran\\\" Stark\",\n",
    "          \"description\": \"Son of Eddard and Catelyn Stark - Direwolf: Summer\",\n",
    "          \"imageSuffix\": \"brandon-stark\",\n",
    "          \"wikiSuffix\": \"Brandon_Stark\"\n",
    "        },\n",
    "        {\n",
    "          \"name\": \"Rickon Stark\",\n",
    "          \"description\": \"Son of Eddard and Catelyn Stark - Direwolf: Shaggydog\",\n",
    "          \"imageSuffix\": \"rickon-stark\",\n",
    "          \"wikiSuffix\": \"Rickon_Stark\"\n",
    "        },\n",
    "        {\n",
    "          \"name\": \"Jon Snow\",\n",
    "          \"description\": \"Bastard son of Eddard Stark - Steweard in the Night's Watch - Direwolf: Ghost\",\n",
    "          \"imageSuffix\": \"jon-snow\",\n",
    "          \"wikiSuffix\": \"Jon_Snow\"\n",
    "        }\n",
    "      ]\n",
    "    },\n",
    "\n",
    "\n",
    "\n",
    "    {\n",
    "      \"name\": \"Lannisters\",\n",
    "      \"wikiSuffix\": \"House_Lannister\",\n",
    "      \"people\": [\n",
    "        {\n",
    "          \"name\": \"Tywin Lannister\",\n",
    "          \"description\": \"Lord of Casterly Rock - Warden of the West\",\n",
    "          \"imageSuffix\": \"tywin-lannister\",\n",
    "          \"wikiSuffix\": \"Tywin_Lannister\"\n",
    "        },\n",
    "        {\n",
    "          \"name\": \"Tyrion Lannister\",\n",
    "          \"description\": \"Son of Tywin Lannister - The Imp\",\n",
    "          \"imageSuffix\": \"tyrion-lannister\",\n",
    "          \"wikiSuffix\": \"Tyrion_Lannister\"\n",
    "        },\n",
    "        {\n",
    "          \"name\": \"Jaime Lannister\",\n",
    "          \"description\": \"The Kingslayer - Knight of the Kingsgaurd - Son of Tywin Lannister\",\n",
    "          \"imageSuffix\": \"jaime-lannister\",\n",
    "          \"wikiSuffix\": \"Jaime_Lannister\"\n",
    "        },\n",
    "        {\n",
    "          \"name\": \"Queen Cersei (Lannister) Baratheon\",\n",
    "          \"description\": \"Married to King Robert Baratheon - Daughter of Tywin Lannister\",\n",
    "          \"imageSuffix\": \"cersei-lannister\",\n",
    "          \"wikiSuffix\": \"Cersei_Lannister\"\n",
    "        }\n",
    "      ]\n",
    "    },\n",
    "\n",
    "\n",
    "    {\n",
    "      \"name\": \"Baratheons\",\n",
    "      \"wikiSuffix\": \"House_Baratheon\",\n",
    "      \"people\": [\n",
    "        {\n",
    "          \"name\": \"King Robert Baratheon\",\n",
    "          \"description\": \"The first of his name - Lord of the Seven Kingdoms\",\n",
    "          \"imageSuffix\": \"robert-baratheon\",\n",
    "          \"wikiSuffix\": \"Robert_Baratheon\"\n",
    "        },\n",
    "        {\n",
    "          \"name\": \"Stannis Baratheon\",\n",
    "          \"description\": \"Lord of Dragonstone - Master of Ships - Brother of Robert Baratheon\",\n",
    "          \"imageSuffix\": \"stannis-baratheon\",\n",
    "          \"wikiSuffix\": \"Stannis_Baratheon\"\n",
    "        },\n",
    "        {\n",
    "          \"name\": \"Renly Baratheon\",\n",
    "          \"description\": \"Lord of Storm's End - Master of Laws - Brother of Robert Baratheon\",\n",
    "          \"imageSuffix\": \"renly-baratheon\",\n",
    "          \"wikiSuffix\": \"Renly_Baratheon\"\n",
    "        },\n",
    "        {\n",
    "          \"name\": \"Joffrey Baratheon\",\n",
    "          \"description\": \"Heir to the Iron Throne - Son of Robert and Cersei Baratheon\",\n",
    "          \"imageSuffix\": \"joffrey-baratheon\",\n",
    "          \"wikiSuffix\": \"Joffrey_Baratheon\"\n",
    "        },\n",
    "        {\n",
    "          \"name\": \"Tommen Baratheon\",\n",
    "          \"description\": \"Son of Robert and Cersei Baratheon\",\n",
    "          \"imageSuffix\": \"tommen-baratheon\",\n",
    "          \"wikiSuffix\": \"Tommen_Baratheon\"\n",
    "        },\n",
    "        {\n",
    "          \"name\": \"Myrcella Baratheon\",\n",
    "          \"description\": \"Daughter of Robert and Cersei Baratheon\",\n",
    "          \"imageSuffix\": \"myrcella-baratheon\",\n",
    "          \"wikiSuffix\": \"Myrcella_Baratheon\"\n",
    "        }\n",
    "      ]\n",
    "    },\n",
    "\n",
    "\n",
    "\n",
    "\n",
    "    {\n",
    "      \"name\": \"Targaryens\",\n",
    "      \"wikiSuffix\": \"House_Targaryen\",\n",
    "      \"people\": [\n",
    "        {\n",
    "          \"name\": \"Daenerys Targaryen\",\n",
    "          \"description\": \"Stormborn - Khaleesi of the Dothraki - The Unburnt - Mother of Dragons - Daughter of Aerys II Targaryen \\\"The Mad King\\\"\",\n",
    "          \"imageSuffix\": \"daenerys-targaryen\",\n",
    "          \"wikiSuffix\": \"Daenerys_Targaryen\"\n",
    "        },\n",
    "        {\n",
    "          \"name\": \"Viserys Targaryen\",\n",
    "          \"description\": \"The Beggar King - Son of Aerys II Targaryen \\\"The Mad King\\\"\",\n",
    "          \"imageSuffix\": \"viserys-targaryen\",\n",
    "          \"wikiSuffix\": \"Viserys_Targaryen\"\n",
    "        }\n",
    "      ]\n",
    "    },\n",
    "\n",
    "\n",
    "\n",
    "    {\n",
    "      \"name\": \"Greyjoys\",\n",
    "      \"wikiSuffix\": \"House_Greyjoy\",\n",
    "      \"people\": [\n",
    "        {\n",
    "          \"name\": \"Balon Greyjoy\",\n",
    "          \"description\": \"Lord Reaper of Pyke - Head of House Greyjoy\",\n",
    "          \"imageSuffix\": \"balon-greyjoy\",\n",
    "          \"wikiSuffix\": \"Balon_Greyjoy\"\n",
    "        },\n",
    "        {\n",
    "          \"name\": \"Theon Greyjoy\",\n",
    "          \"description\": \"Ward of the Starks - Heir to the Iron Islands - Son of Balon Greyjoy\",\n",
    "          \"imageSuffix\": \"theon-greyjoy\",\n",
    "          \"wikiSuffix\": \"Theon_Greyjoy\"\n",
    "        },\n",
    "        {\n",
    "          \"name\": \"Yara Greyjoy\",\n",
    "          \"description\": \"Ironborn - Son of Balon Greyjoy\",\n",
    "          \"imageSuffix\": \"yara-greyjoy\",\n",
    "          \"wikiSuffix\": \"Yara_Greyjoy\"\n",
    "        }\n",
    "\n",
    "      ]\n",
    "    },\n",
    "\n",
    "    {\n",
    "      \"name\": \"Tyrells\",\n",
    "      \"wikiSuffix\": \"House_Tyrell\",\n",
    "      \"people\": [\n",
    "        {\n",
    "          \"name\": \"Margaery (Tyrell) Baratheon\",\n",
    "          \"description\": \"Wife of Renly Baratheon - Sister of Loras Tyrell - Granddaughter of Olenna Tyrell\",\n",
    "          \"imageSuffix\": \"margaery-tyrell\",\n",
    "          \"wikiSuffix\": \"Margaery_Tyrell\"\n",
    "        },\n",
    "        {\n",
    "          \"name\": \"Loras Tyrell\",\n",
    "          \"description\": \"Heir to Highgarden - Commander of the Kings Gaurd - Brother of Margaery Baratheon\",\n",
    "          \"imageSuffix\": \"loras-tyrell\",\n",
    "          \"wikiSuffix\": \"Loras_Tyrell\"\n",
    "        }\n",
    "\n",
    "      ]\n",
    "    },\n",
    "\n",
    "    {\n",
    "      \"name\": \"Tullys\",\n",
    "      \"wikiSuffix\": \"House_Tully\",\n",
    "      \"people\": [\n",
    "        {\n",
    "          \"name\": \"Catelyn (Tully) Stark\",\n",
    "          \"description\": \"Married to Eddard Stark - Daughter of Hoster Tully\",\n",
    "          \"imageSuffix\": \"catelyn-tully\",\n",
    "          \"wikiSuffix\": \"Catelyn_Tully\"\n",
    "        },\n",
    "        {\n",
    "          \"name\": \"Lysa (Tully) Arryn\",\n",
    "          \"description\": \"Widow of Jon Arryn - Daughter of Hoster Tully\",\n",
    "          \"imageSuffix\": \"lysa-tully\",\n",
    "          \"wikiSuffix\": \"Lysa_Tully\"\n",
    "        },\n",
    "        {\n",
    "          \"name\": \"Edmure Tully\",\n",
    "          \"description\": \"Heir to Riverrun - Son of Hoster Tully\",\n",
    "          \"imageSuffix\": \"edmure-tully\",\n",
    "          \"wikiSuffix\": \"Edmure_Tully\"\n",
    "        },\n",
    "        {\n",
    "          \"name\": \"Brynden Tully\",\n",
    "          \"description\": \"Lord of Riverrun - Head of House Tully - Brother of Hoster Tully\",\n",
    "          \"imageSuffix\": \"brynden-tully\",\n",
    "          \"wikiSuffix\": \"Brynden_Tully\"\n",
    "        }\n",
    "\n",
    "      ]\n",
    "    },\n",
    "\n",
    "    {\n",
    "      \"name\": \"Redwyne\",\n",
    "      \"wikiSuffix\": \"House_Redwyne\",\n",
    "      \"people\": [\n",
    "        {\n",
    "          \"name\": \"Olenna (Redwyne) Tyrell\",\n",
    "          \"description\": \"Matriarch of House Tyrell - Queen of Thorns\",\n",
    "          \"imageSuffix\": \"olenna-tyrell\",\n",
    "          \"wikiSuffix\": \"Olenna_Tyrell\"\n",
    "        }\n",
    "\n",
    "      ]\n",
    "    },\n",
    "\n",
    "    {\n",
    "      \"name\": \"Freys\",\n",
    "      \"wikiSuffix\": \"House_Freys\",\n",
    "      \"people\": [\n",
    "        {\n",
    "          \"name\": \"Walder Frey\",\n",
    "          \"description\": \"Lord of the Crossing - Head of House Frey\",\n",
    "          \"imageSuffix\": \"walder-frey\",\n",
    "          \"wikiSuffix\": \"Walder_Frey\"\n",
    "        }\n",
    "\n",
    "      ]\n",
    "    },\n",
    "\n",
    "    {\n",
    "      \"name\": \"Arryns\",\n",
    "      \"wikiSuffix\": \"House_Arryns\",\n",
    "      \"people\": [\n",
    "        {\n",
    "          \"name\": \"Jon Arryn\",\n",
    "          \"description\": \"Lord of the Eyrie - Head of House Arryn - Warden of the East - Defender of the Vale\",\n",
    "          \"imageSuffix\": \"jon-arryn\",\n",
    "          \"wikiSuffix\": \"Jon_Arryn\"\n",
    "        }\n",
    "\n",
    "      ]\n",
    "    },\n",
    "\n",
    "    {\n",
    "      \"name\": \"Dothrakis\",\n",
    "      \"wikiSuffix\": \"House_Dothrakis\",\n",
    "      \"people\": [\n",
    "        {\n",
    "          \"name\": \"Khal Drogo\",\n",
    "          \"description\": \"Leader of the Dothraki people - Dothraki Warlord - Married to Daenerys Targaryen\",\n",
    "          \"imageSuffix\": \"khal-drogo\",\n",
    "          \"wikiSuffix\": \"Drogo\"\n",
    "        }\n",
    "\n",
    "      ]\n",
    "    }\n",
    "\n",
    "  ]\n",
    ")"
   ]
  },
  {
   "cell_type": "code",
   "execution_count": null,
   "metadata": {},
   "outputs": [],
   "source": [
    "from pprint import pprint\n",
    "\n",
    "pprint(got_houses.inserted_ids)"
   ]
  },
  {
   "cell_type": "code",
   "execution_count": null,
   "metadata": {},
   "outputs": [],
   "source": [
    "print(\"Here is a house from various houses of the seven kingdoms\")\n",
    "\n",
    "for doc in pymongo_got.find().limit(1):\n",
    "    pprint(doc)"
   ]
  },
  {
   "cell_type": "markdown",
   "metadata": {},
   "source": [
    "# Each house has many people. Let's unwind the `people` array and get a list of few people in Game of Thrones\n",
    "# Let's run an `aggregate pipeline` for this."
   ]
  },
  {
   "cell_type": "code",
   "execution_count": null,
   "metadata": {},
   "outputs": [],
   "source": [
    "unwind = {\"$unwind\": \"$people\"}\n",
    "limit = {\"$limit\": 3}\n",
    "project = {\"$project\": { \"_id\": 0, \"people.name\": 1, \"people.description\":1}}\n",
    "\n",
    "pipeline = [unwind, limit, project]\n",
    "\n",
    "got_people = pymongo_got.aggregate(pipeline)\n",
    "\n",
    "for people in got_people:\n",
    "    pprint(people)"
   ]
  },
  {
   "cell_type": "markdown",
   "metadata": {},
   "source": [
    "# Let's unwind and sort some data"
   ]
  },
  {
   "cell_type": "code",
   "execution_count": null,
   "metadata": {},
   "outputs": [],
   "source": [
    "unwind = {\"$unwind\": \"$people\"}\n",
    "sort = {\"$sort\": {\"name\":1, \"people.name\":1, }} \n",
    "# Note that python dictionary field order is not defined and may result in unexpected sort results\n",
    "# You should instead use SON - https://api.mongodb.com/python/current/api/bson/son.html?highlight=son#module-bson.son\n",
    "# in such cases after importing the bson module.\n",
    "# bson.son.SON([(\"name\", 1), (\"people.name\", 2)])\n",
    "# However, in my case, the result is true as I'm using Python 3.6. However, it should not be relied on in general.\n",
    "# See https://stackoverflow.com/a/39537308/6092461 for more details\n",
    "limit = {\"$limit\": 3}\n",
    "pipeline = [unwind, sort, limit]\n",
    "\n",
    "got_people = pymongo_got.aggregate(pipeline)\n",
    "\n",
    "for people in got_people:\n",
    "    pprint(people)"
   ]
  },
  {
   "cell_type": "markdown",
   "metadata": {},
   "source": [
    "# Let's unwind the people here and store the data in a new collection named got_unwind"
   ]
  },
  {
   "cell_type": "code",
   "execution_count": null,
   "metadata": {},
   "outputs": [],
   "source": [
    "got_unwind.delete_many({})\n",
    "unwind = {\"$unwind\": \"$people\"}\n",
    "project = {\"$project\":{\"_id\": 0}} # Otherwise it'll result in duplicate key error\n",
    "out = {\"$out\": \"got_unwind\"}\n",
    "\n",
    "pipeline = [unwind, project, out]\n",
    "\n",
    "pymongo_got.aggregate(pipeline)"
   ]
  },
  {
   "cell_type": "markdown",
   "metadata": {},
   "source": [
    "# What is in the `got_unwind` now?"
   ]
  },
  {
   "cell_type": "code",
   "execution_count": null,
   "metadata": {},
   "outputs": [],
   "source": [
    "got_unwind = db_atlas['got_unwind']\n",
    "\n",
    "for doc in got_unwind.find().limit(3):\n",
    "    pprint(doc)"
   ]
  },
  {
   "cell_type": "markdown",
   "metadata": {},
   "source": [
    "**Hello, I'm George Martin and I have come to kill all the starks.**\n",
    "\n",
    "**_Me: What do I need to do?_**\n",
    "\n",
    "**Set their status to DEAD.**\n",
    "\n",
    "**_Me: But there is no field named status in this collection_**\n",
    "\n",
    "**Then add a new field to the collection, I don't care**\n",
    "\n",
    "**_Me: (worried) It'll lock the entire table_**\n",
    "\n",
    "**You are using MongoDB. It is flexible. You can add fields on the fly.**\n",
    "\n",
    "**_Me: How do you know?_**\n",
    "\n",
    "**That's what I do. I drink and I know things. :)**"
   ]
  },
  {
   "cell_type": "markdown",
   "metadata": {},
   "source": [
    "![kill-starks.jpg](kill-starks.jpg)"
   ]
  },
  {
   "cell_type": "code",
   "execution_count": null,
   "metadata": {
    "collapsed": true
   },
   "outputs": [],
   "source": [
    "killing_starks = got_unwind.update_many({\"name\": \"Starks\"},{\"$set\": {\"status\":\"DEAD\"}})"
   ]
  },
  {
   "cell_type": "code",
   "execution_count": null,
   "metadata": {},
   "outputs": [],
   "source": [
    "print(dir(killing_starks)) #Using dir() to access the result of last update\n",
    "print(\"Here is the Modified Count and Matched Count:\")\n",
    "print(killing_starks.modified_count, killing_starks.matched_count)"
   ]
  },
  {
   "cell_type": "code",
   "execution_count": null,
   "metadata": {},
   "outputs": [],
   "source": [
    "for doc in got_unwind.find({\"name\": \"Starks\"}):\n",
    "    print(doc)"
   ]
  }
 ],
 "metadata": {
  "kernelspec": {
   "display_name": "Python 3",
   "language": "python",
   "name": "python3"
  },
  "language_info": {
   "codemirror_mode": {
    "name": "ipython",
    "version": 3
   },
   "file_extension": ".py",
   "mimetype": "text/x-python",
   "name": "python",
   "nbconvert_exporter": "python",
   "pygments_lexer": "ipython3",
   "version": "3.6.1"
  }
 },
 "nbformat": 4,
 "nbformat_minor": 2
}
